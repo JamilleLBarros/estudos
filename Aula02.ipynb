{
  "nbformat": 4,
  "nbformat_minor": 0,
  "metadata": {
    "colab": {
      "provenance": []
    },
    "kernelspec": {
      "name": "python3",
      "display_name": "Python 3"
    },
    "language_info": {
      "name": "python"
    }
  },
  "cells": [
    {
      "cell_type": "code",
      "execution_count": 6,
      "metadata": {
        "colab": {
          "base_uri": "https://localhost:8080/"
        },
        "id": "8Pju9ZRkdNEe",
        "outputId": "19a778f0-e40e-45a1-d50d-09cf8c94ab59"
      },
      "outputs": [
        {
          "output_type": "stream",
          "name": "stdout",
          "text": [
            "Olá mundo\n",
            "<class 'int'>\n"
          ]
        }
      ],
      "source": [
        "#UNINASSAU\n",
        "#DOCENTE: CLOVES ROCHA\n",
        "#ESTUDANTE: JAMILLE\n",
        "# TIPOS PRIMITIVOS DE DADOS\n",
        "\n",
        "print (\"Olá mundo\")\n",
        "\n",
        "c = 10\n",
        "print(type(c))"
      ]
    }
  ]
}